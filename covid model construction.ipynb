{
 "cells": [
  {
   "cell_type": "code",
   "execution_count": null,
   "id": "7742c77f",
   "metadata": {
    "deletable": false,
    "editable": false
   },
   "outputs": [],
   "source": [
    "# Initialize Otter\n",
    "import otter\n",
    "grader = otter.Notebook(\"covid_part2.ipynb\")"
   ]
  },
  {
   "cell_type": "markdown",
   "id": "02b82b09",
   "metadata": {},
   "source": [
    "# Final Project: COVID-19 Dataset\n",
    "## Exploring COVID-19 Data through Modeling\n",
    "## Due Date: Thursday, December 13th, 11:59 PM\n",
    "## Collaboration Policy\n",
    "\n",
    "Data science is a collaborative activity. While you may talk with other groups about\n",
    "the project, we ask that you **write your solutions individually**. If you do\n",
    "discuss the assignments with others outside of your group please **include their names** at the top\n",
    "of your notebook."
   ]
  },
  {
   "cell_type": "markdown",
   "id": "cb908b16",
   "metadata": {},
   "source": [
    "\n",
    "## This Assignment\n",
    "\n",
    "In this final project, we will investigate COVID-19 data over the past year. This data contains information about COVID-19 case counts, mortalities, vaccination rates, and various other metadata that can assist in modeling various aspects of COVID-19.\n",
    "\n",
    "Through this final project, you will demonstrate your experience with:\n",
    "* Data cleaning and EDA using Pandas\n",
    "* Unsupervised and supervised learning techniques\n",
    "* Visualization\n"
   ]
  },
  {
   "cell_type": "markdown",
   "id": "2a2811cb",
   "metadata": {},
   "source": [
    "## Goal\n",
    "\n",
    "Model and analyze the temporal evolution of COVID-19 mortalities or cases using one unsupervised and one supervised technique of your choice. Interpret your models' results through visualizations, and draw insightful conclusions about the modeling of COVID-19 data.\n",
    "\n",
    "Recall that we studied linear and logistic regression, decision trees, random forests as part of supervised learning (with labels) and clustering, PCA as part of unsupervised learning (without labels). You are free to use any methods that you find suitable to answer the problem at hand."
   ]
  },
  {
   "cell_type": "code",
   "execution_count": null,
   "id": "9c01af05",
   "metadata": {},
   "outputs": [],
   "source": [
    "# Run this cell to set up your notebook\n",
    "import numpy as np\n",
    "from geopy import *\n",
    "import pandas as pd\n",
    "from sklearn.linear_model import LinearRegression\n",
    "from sklearn.model_selection import train_test_split\n",
    "from sklearn.cluster import *\n",
    "import matplotlib.pyplot as plt\n",
    "import seaborn as sns\n",
    "\n",
    "import warnings\n",
    "warnings.filterwarnings(\"ignore\")\n",
    "\n",
    "import plotly.graph_objects as go\n",
    "import plotly.express as px\n",
    "from plotly.subplots import make_subplots\n",
    "from scipy.stats import pearsonr\n",
    "import re\n",
    "\n",
    "cases = pd.read_csv('data/time_series_covid19_confirmed_US.csv') # https://github.com/CSSEGISandData/COVID-19/blob/master/csse_covid_19_data/csse_covid_19_time_series/time_series_covid19_confirmed_US.csv\n",
    "vaccinations = pd.read_csv('data/people_vaccinated_us_timeline.csv') # https://raw.githubusercontent.com/govex/COVID-19/master/data_tables/vaccine_data/us_data/time_series/people_vaccinated_us_timeline.csv\n",
    "counties = pd.read_csv('data/co-est2020.csv', encoding='latin-1') # https://www2.census.gov/programs-surveys/popest/datasets/2010-2020/counties/totals/co-est2020.csv\n",
    "mask_use = pd.read_csv('data/mask-use-by-county.csv') # https://github.com/nytimes/covid-19-data/blob/master/mask-use/mask-use-by-county.csv"
   ]
  },
  {
   "cell_type": "markdown",
   "id": "1f4b18d3",
   "metadata": {},
   "source": [
    "<br/><br/><br/>\n",
    "\n",
    "---\n",
    "\n",
    "<br/><br/><br/>\n",
    "\n",
    "## Data Cleaning (Again!)\n",
    "\n",
    "For this section, please copy over the appropriate answers from your previous notebook submission."
   ]
  },
  {
   "cell_type": "markdown",
   "id": "f4e6efb9",
   "metadata": {
    "deletable": false,
    "editable": false
   },
   "source": [
    "### Part 1: Question 1a\n",
    "\n",
    "Impute the null values in *all* the datasets with zero values or empty strings where appropriate.\n",
    "\n",
    "<!--\n",
    "BEGIN QUESTION\n",
    "name: q1a\n",
    "points: 0\n",
    "-->"
   ]
  },
  {
   "cell_type": "code",
   "execution_count": null,
   "id": "dd43134a",
   "metadata": {},
   "outputs": [],
   "source": [
    "vaccinations = vaccinations.fillna(value=0)\n",
    "cases = cases.fillna(value=0)"
   ]
  },
  {
   "cell_type": "code",
   "execution_count": null,
   "id": "f42e23fb",
   "metadata": {
    "deletable": false,
    "editable": false
   },
   "outputs": [
    {
     "data": {
      "text/html": [
       "<p><strong><pre style='display: inline;'>q1a</pre></strong> passed!</p>"
      ],
      "text/plain": [
       "q1a results: All test cases passed!"
      ]
     },
     "execution_count": 5,
     "metadata": {},
     "output_type": "execute_result"
    }
   ],
   "source": [
    "grader.check(\"q1a\")"
   ]
  },
  {
   "cell_type": "markdown",
   "id": "32fdc73c",
   "metadata": {
    "deletable": false,
    "editable": false
   },
   "source": [
    "### Part 1: Question 1d\n",
    "\n",
    "Generate a valid FIPS code for the `counties` table.\n",
    "\n",
    "*Hint*: Refer to [this](https://transition.fcc.gov/oet/info/maps/census/fips/fips.txt) guide on FIPS codes.\n",
    "\n",
    "<!--\n",
    "BEGIN QUESTION\n",
    "name: q1d\n",
    "points: 0\n",
    "-->"
   ]
  },
  {
   "cell_type": "code",
   "execution_count": null,
   "id": "8869affb",
   "metadata": {},
   "outputs": [],
   "source": [
    "counties['FIPS'] = 1000*counties['STATE']+counties['COUNTY']"
   ]
  },
  {
   "cell_type": "code",
   "execution_count": null,
   "id": "f936214a",
   "metadata": {
    "deletable": false,
    "editable": false
   },
   "outputs": [
    {
     "data": {
      "text/html": [
       "<p><strong><pre style='display: inline;'>q1d</pre></strong> passed!</p>"
      ],
      "text/plain": [
       "q1d results: All test cases passed!"
      ]
     },
     "execution_count": 7,
     "metadata": {},
     "output_type": "execute_result"
    }
   ],
   "source": [
    "grader.check(\"q1d\")"
   ]
  },
  {
   "cell_type": "markdown",
   "id": "5851d0b6",
   "metadata": {
    "deletable": false,
    "editable": false
   },
   "source": [
    "### Part 1: Question 1e\n",
    "\n",
    "Merge the `counties`, `cases`, and `mask_use` tables on an appropriate primary key to generate county-wise data.\n",
    "\n",
    "<!--\n",
    "BEGIN QUESTION\n",
    "name: q1e\n",
    "points: 0\n",
    "-->"
   ]
  },
  {
   "cell_type": "code",
   "execution_count": null,
   "id": "3730e8a2",
   "metadata": {},
   "outputs": [
    {
     "data": {
      "text/html": [
       "<div>\n",
       "<style scoped>\n",
       "    .dataframe tbody tr th:only-of-type {\n",
       "        vertical-align: middle;\n",
       "    }\n",
       "\n",
       "    .dataframe tbody tr th {\n",
       "        vertical-align: top;\n",
       "    }\n",
       "\n",
       "    .dataframe thead th {\n",
       "        text-align: right;\n",
       "    }\n",
       "</style>\n",
       "<table border=\"1\" class=\"dataframe\">\n",
       "  <thead>\n",
       "    <tr style=\"text-align: right;\">\n",
       "      <th></th>\n",
       "      <th>SUMLEV</th>\n",
       "      <th>REGION</th>\n",
       "      <th>DIVISION</th>\n",
       "      <th>STATE</th>\n",
       "      <th>COUNTY</th>\n",
       "      <th>STNAME</th>\n",
       "      <th>CTYNAME</th>\n",
       "      <th>CENSUS2010POP</th>\n",
       "      <th>ESTIMATESBASE2010</th>\n",
       "      <th>POPESTIMATE2010</th>\n",
       "      <th>...</th>\n",
       "      <th>9/9/21</th>\n",
       "      <th>9/10/21</th>\n",
       "      <th>9/11/21</th>\n",
       "      <th>9/12/21</th>\n",
       "      <th>NEVER</th>\n",
       "      <th>RARELY</th>\n",
       "      <th>SOMETIMES</th>\n",
       "      <th>FREQUENTLY</th>\n",
       "      <th>ALWAYS</th>\n",
       "      <th>COUNTYFP</th>\n",
       "    </tr>\n",
       "  </thead>\n",
       "  <tbody>\n",
       "    <tr>\n",
       "      <th>1</th>\n",
       "      <td>50</td>\n",
       "      <td>3</td>\n",
       "      <td>6</td>\n",
       "      <td>1</td>\n",
       "      <td>1</td>\n",
       "      <td>Alabama</td>\n",
       "      <td>Autauga County</td>\n",
       "      <td>54571</td>\n",
       "      <td>54582</td>\n",
       "      <td>54761</td>\n",
       "      <td>...</td>\n",
       "      <td>9145</td>\n",
       "      <td>9207</td>\n",
       "      <td>9246</td>\n",
       "      <td>9287</td>\n",
       "      <td>0.053</td>\n",
       "      <td>0.074</td>\n",
       "      <td>0.134</td>\n",
       "      <td>0.295</td>\n",
       "      <td>0.444</td>\n",
       "      <td>1001</td>\n",
       "    </tr>\n",
       "    <tr>\n",
       "      <th>2</th>\n",
       "      <td>50</td>\n",
       "      <td>3</td>\n",
       "      <td>6</td>\n",
       "      <td>1</td>\n",
       "      <td>3</td>\n",
       "      <td>Alabama</td>\n",
       "      <td>Baldwin County</td>\n",
       "      <td>182265</td>\n",
       "      <td>182263</td>\n",
       "      <td>183121</td>\n",
       "      <td>...</td>\n",
       "      <td>34536</td>\n",
       "      <td>34726</td>\n",
       "      <td>34872</td>\n",
       "      <td>34950</td>\n",
       "      <td>0.083</td>\n",
       "      <td>0.059</td>\n",
       "      <td>0.098</td>\n",
       "      <td>0.323</td>\n",
       "      <td>0.436</td>\n",
       "      <td>1003</td>\n",
       "    </tr>\n",
       "    <tr>\n",
       "      <th>3</th>\n",
       "      <td>50</td>\n",
       "      <td>3</td>\n",
       "      <td>6</td>\n",
       "      <td>1</td>\n",
       "      <td>5</td>\n",
       "      <td>Alabama</td>\n",
       "      <td>Barbour County</td>\n",
       "      <td>27457</td>\n",
       "      <td>27454</td>\n",
       "      <td>27325</td>\n",
       "      <td>...</td>\n",
       "      <td>3243</td>\n",
       "      <td>3260</td>\n",
       "      <td>3282</td>\n",
       "      <td>3295</td>\n",
       "      <td>0.067</td>\n",
       "      <td>0.121</td>\n",
       "      <td>0.120</td>\n",
       "      <td>0.201</td>\n",
       "      <td>0.491</td>\n",
       "      <td>1005</td>\n",
       "    </tr>\n",
       "    <tr>\n",
       "      <th>4</th>\n",
       "      <td>50</td>\n",
       "      <td>3</td>\n",
       "      <td>6</td>\n",
       "      <td>1</td>\n",
       "      <td>7</td>\n",
       "      <td>Alabama</td>\n",
       "      <td>Bibb County</td>\n",
       "      <td>22915</td>\n",
       "      <td>22904</td>\n",
       "      <td>22858</td>\n",
       "      <td>...</td>\n",
       "      <td>3727</td>\n",
       "      <td>3752</td>\n",
       "      <td>3778</td>\n",
       "      <td>3795</td>\n",
       "      <td>0.020</td>\n",
       "      <td>0.034</td>\n",
       "      <td>0.096</td>\n",
       "      <td>0.278</td>\n",
       "      <td>0.572</td>\n",
       "      <td>1007</td>\n",
       "    </tr>\n",
       "    <tr>\n",
       "      <th>5</th>\n",
       "      <td>50</td>\n",
       "      <td>3</td>\n",
       "      <td>6</td>\n",
       "      <td>1</td>\n",
       "      <td>9</td>\n",
       "      <td>Alabama</td>\n",
       "      <td>Blount County</td>\n",
       "      <td>57322</td>\n",
       "      <td>57322</td>\n",
       "      <td>57372</td>\n",
       "      <td>...</td>\n",
       "      <td>9048</td>\n",
       "      <td>9095</td>\n",
       "      <td>9161</td>\n",
       "      <td>9176</td>\n",
       "      <td>0.053</td>\n",
       "      <td>0.114</td>\n",
       "      <td>0.180</td>\n",
       "      <td>0.194</td>\n",
       "      <td>0.459</td>\n",
       "      <td>1009</td>\n",
       "    </tr>\n",
       "    <tr>\n",
       "      <th>...</th>\n",
       "      <td>...</td>\n",
       "      <td>...</td>\n",
       "      <td>...</td>\n",
       "      <td>...</td>\n",
       "      <td>...</td>\n",
       "      <td>...</td>\n",
       "      <td>...</td>\n",
       "      <td>...</td>\n",
       "      <td>...</td>\n",
       "      <td>...</td>\n",
       "      <td>...</td>\n",
       "      <td>...</td>\n",
       "      <td>...</td>\n",
       "      <td>...</td>\n",
       "      <td>...</td>\n",
       "      <td>...</td>\n",
       "      <td>...</td>\n",
       "      <td>...</td>\n",
       "      <td>...</td>\n",
       "      <td>...</td>\n",
       "      <td>...</td>\n",
       "    </tr>\n",
       "    <tr>\n",
       "      <th>3189</th>\n",
       "      <td>50</td>\n",
       "      <td>4</td>\n",
       "      <td>8</td>\n",
       "      <td>56</td>\n",
       "      <td>37</td>\n",
       "      <td>Wyoming</td>\n",
       "      <td>Sweetwater County</td>\n",
       "      <td>43806</td>\n",
       "      <td>43806</td>\n",
       "      <td>43580</td>\n",
       "      <td>...</td>\n",
       "      <td>6034</td>\n",
       "      <td>6111</td>\n",
       "      <td>6111</td>\n",
       "      <td>6111</td>\n",
       "      <td>0.061</td>\n",
       "      <td>0.295</td>\n",
       "      <td>0.230</td>\n",
       "      <td>0.146</td>\n",
       "      <td>0.268</td>\n",
       "      <td>56037</td>\n",
       "    </tr>\n",
       "    <tr>\n",
       "      <th>3190</th>\n",
       "      <td>50</td>\n",
       "      <td>4</td>\n",
       "      <td>8</td>\n",
       "      <td>56</td>\n",
       "      <td>39</td>\n",
       "      <td>Wyoming</td>\n",
       "      <td>Teton County</td>\n",
       "      <td>21294</td>\n",
       "      <td>21298</td>\n",
       "      <td>21298</td>\n",
       "      <td>...</td>\n",
       "      <td>4587</td>\n",
       "      <td>4611</td>\n",
       "      <td>4611</td>\n",
       "      <td>4611</td>\n",
       "      <td>0.095</td>\n",
       "      <td>0.157</td>\n",
       "      <td>0.160</td>\n",
       "      <td>0.247</td>\n",
       "      <td>0.340</td>\n",
       "      <td>56039</td>\n",
       "    </tr>\n",
       "    <tr>\n",
       "      <th>3191</th>\n",
       "      <td>50</td>\n",
       "      <td>4</td>\n",
       "      <td>8</td>\n",
       "      <td>56</td>\n",
       "      <td>41</td>\n",
       "      <td>Wyoming</td>\n",
       "      <td>Uinta County</td>\n",
       "      <td>21118</td>\n",
       "      <td>21121</td>\n",
       "      <td>21090</td>\n",
       "      <td>...</td>\n",
       "      <td>3168</td>\n",
       "      <td>3204</td>\n",
       "      <td>3204</td>\n",
       "      <td>3204</td>\n",
       "      <td>0.098</td>\n",
       "      <td>0.278</td>\n",
       "      <td>0.154</td>\n",
       "      <td>0.207</td>\n",
       "      <td>0.264</td>\n",
       "      <td>56041</td>\n",
       "    </tr>\n",
       "    <tr>\n",
       "      <th>3192</th>\n",
       "      <td>50</td>\n",
       "      <td>4</td>\n",
       "      <td>8</td>\n",
       "      <td>56</td>\n",
       "      <td>43</td>\n",
       "      <td>Wyoming</td>\n",
       "      <td>Washakie County</td>\n",
       "      <td>8533</td>\n",
       "      <td>8528</td>\n",
       "      <td>8531</td>\n",
       "      <td>...</td>\n",
       "      <td>1111</td>\n",
       "      <td>1120</td>\n",
       "      <td>1120</td>\n",
       "      <td>1120</td>\n",
       "      <td>0.204</td>\n",
       "      <td>0.155</td>\n",
       "      <td>0.069</td>\n",
       "      <td>0.285</td>\n",
       "      <td>0.287</td>\n",
       "      <td>56043</td>\n",
       "    </tr>\n",
       "    <tr>\n",
       "      <th>3193</th>\n",
       "      <td>50</td>\n",
       "      <td>4</td>\n",
       "      <td>8</td>\n",
       "      <td>56</td>\n",
       "      <td>45</td>\n",
       "      <td>Wyoming</td>\n",
       "      <td>Weston County</td>\n",
       "      <td>7208</td>\n",
       "      <td>7208</td>\n",
       "      <td>7198</td>\n",
       "      <td>...</td>\n",
       "      <td>824</td>\n",
       "      <td>829</td>\n",
       "      <td>829</td>\n",
       "      <td>829</td>\n",
       "      <td>0.142</td>\n",
       "      <td>0.129</td>\n",
       "      <td>0.148</td>\n",
       "      <td>0.207</td>\n",
       "      <td>0.374</td>\n",
       "      <td>56045</td>\n",
       "    </tr>\n",
       "  </tbody>\n",
       "</table>\n",
       "<p>3141 rows × 638 columns</p>\n",
       "</div>"
      ],
      "text/plain": [
       "      SUMLEV  REGION  DIVISION  STATE  COUNTY   STNAME            CTYNAME  \\\n",
       "1         50       3         6      1       1  Alabama     Autauga County   \n",
       "2         50       3         6      1       3  Alabama     Baldwin County   \n",
       "3         50       3         6      1       5  Alabama     Barbour County   \n",
       "4         50       3         6      1       7  Alabama        Bibb County   \n",
       "5         50       3         6      1       9  Alabama      Blount County   \n",
       "...      ...     ...       ...    ...     ...      ...                ...   \n",
       "3189      50       4         8     56      37  Wyoming  Sweetwater County   \n",
       "3190      50       4         8     56      39  Wyoming       Teton County   \n",
       "3191      50       4         8     56      41  Wyoming       Uinta County   \n",
       "3192      50       4         8     56      43  Wyoming    Washakie County   \n",
       "3193      50       4         8     56      45  Wyoming      Weston County   \n",
       "\n",
       "     CENSUS2010POP  ESTIMATESBASE2010  POPESTIMATE2010  ...  9/9/21  9/10/21  \\\n",
       "1            54571              54582            54761  ...    9145     9207   \n",
       "2           182265             182263           183121  ...   34536    34726   \n",
       "3            27457              27454            27325  ...    3243     3260   \n",
       "4            22915              22904            22858  ...    3727     3752   \n",
       "5            57322              57322            57372  ...    9048     9095   \n",
       "...            ...                ...              ...  ...     ...      ...   \n",
       "3189         43806              43806            43580  ...    6034     6111   \n",
       "3190         21294              21298            21298  ...    4587     4611   \n",
       "3191         21118              21121            21090  ...    3168     3204   \n",
       "3192          8533               8528             8531  ...    1111     1120   \n",
       "3193          7208               7208             7198  ...     824      829   \n",
       "\n",
       "      9/11/21  9/12/21  NEVER  RARELY  SOMETIMES  FREQUENTLY  ALWAYS  COUNTYFP  \n",
       "1        9246     9287  0.053   0.074      0.134       0.295   0.444      1001  \n",
       "2       34872    34950  0.083   0.059      0.098       0.323   0.436      1003  \n",
       "3        3282     3295  0.067   0.121      0.120       0.201   0.491      1005  \n",
       "4        3778     3795  0.020   0.034      0.096       0.278   0.572      1007  \n",
       "5        9161     9176  0.053   0.114      0.180       0.194   0.459      1009  \n",
       "...       ...      ...    ...     ...        ...         ...     ...       ...  \n",
       "3189     6111     6111  0.061   0.295      0.230       0.146   0.268     56037  \n",
       "3190     4611     4611  0.095   0.157      0.160       0.247   0.340     56039  \n",
       "3191     3204     3204  0.098   0.278      0.154       0.207   0.264     56041  \n",
       "3192     1120     1120  0.204   0.155      0.069       0.285   0.287     56043  \n",
       "3193      829      829  0.142   0.129      0.148       0.207   0.374     56045  \n",
       "\n",
       "[3141 rows x 638 columns]"
      ]
     },
     "execution_count": 8,
     "metadata": {},
     "output_type": "execute_result"
    }
   ],
   "source": [
    "county_data = counties.join(cases.set_index(\"FIPS\"), on = 'FIPS', how = 'inner').join(mask_use.set_index('COUNTYFP'), on = 'FIPS', how = 'inner')\n",
    "county_data[\"COUNTYFP\"] = county_data[\"FIPS\"]\n",
    "county_data"
   ]
  },
  {
   "cell_type": "code",
   "execution_count": null,
   "id": "7a0a0793",
   "metadata": {
    "deletable": false,
    "editable": false
   },
   "outputs": [
    {
     "data": {
      "text/html": [
       "<p><strong><pre style='display: inline;'>q1e</pre></strong> passed!</p>"
      ],
      "text/plain": [
       "q1e results: All test cases passed!"
      ]
     },
     "execution_count": 9,
     "metadata": {},
     "output_type": "execute_result"
    }
   ],
   "source": [
    "grader.check(\"q1e\")"
   ]
  },
  {
   "cell_type": "markdown",
   "id": "b7bb5b84",
   "metadata": {
    "tags": []
   },
   "source": [
    "<br/><br/><br/>\n",
    "\n",
    "---\n",
    "\n",
    "<br/><br/><br/>\n",
    "\n",
    "## Question 5: Guided Supervised Modeling\n",
    "\n",
    "This section will guide you through creating a supervised learning framework that will predict the number of COVID-19 cases per capita given various COVID-19 safety protocols that have been implemented. Then, we will investigate the bias, variance, and observational noise of this framework.\n",
    "\n",
    "Note that any answer responses without the appropriate work (i.e. code or math) will be subject to additional review and will not receive any credit."
   ]
  },
  {
   "cell_type": "markdown",
   "id": "a94355a0",
   "metadata": {
    "deletable": false,
    "editable": false
   },
   "source": [
    "<!-- BEGIN QUESTION -->\n",
    "\n",
    "### Question 5a\n",
    "\n",
    "We will use county-wise mask usage data to predict the number of COVID-19 cases on September 12th, 2021. Create a visualization that shows the pairwise correlation between each combination of column in the mask usage data and the number of COVID-19 cases.\n",
    "\n",
    "*Hint*: You should be plotting 36 correlations.\n",
    "<!--\n",
    "BEGIN QUESTION\n",
    "name: q5a\n",
    "points: 3\n",
    "manual: True\n",
    "-->"
   ]
  },
  {
   "cell_type": "code",
   "execution_count": null,
   "id": "98cbca46",
   "metadata": {},
   "outputs": [
    {
     "data": {
      "image/png": "[encoded data removed]",
      "text/plain": [
       "<Figure size 432x288 with 2 Axes>"
      ]
     },
     "metadata": {
      "needs_background": "light"
     },
     "output_type": "display_data"
    }
   ],
   "source": [
    "county_small = county_data.loc[:, (\"COUNTYFP\",\"9/12/21\")]\n",
    "temp = mask_use.merge(county_small, on = \"COUNTYFP\", how = \"left\").drop(columns=\"COUNTYFP\").rename(columns={\"9/12/21\": \"COVID cases total on 9/12/21\"})\n",
    "dataplot = sns.heatmap(temp.corr(), cmap=\"YlGnBu\", annot=True)\n",
    "plt.title(\"Pairwise correlation between mask usage and COVID cases number on 9/12/21\");"
   ]
  },
  {
   "cell_type": "markdown",
   "id": "d8860eb5",
   "metadata": {
    "deletable": false,
    "editable": false
   },
   "source": [
    "<!-- END QUESTION -->\n",
    "\n",
    "### Question 5b\n",
    "\n",
    "Train a linear regression model to predict the number of COVID-19 cases using county-wise mask usage data for September 12, 2021. Evaluate your model's RMSE on a held-out validation set with 33% of the county-wise data. When possible, make sure to set `random_state = 42` when splitting your data into training and test sets.\n",
    "<!--\n",
    "BEGIN QUESTION\n",
    "name: q5b\n",
    "points: 5\n",
    "-->"
   ]
  },
  {
   "cell_type": "code",
   "execution_count": null,
   "id": "c917813e",
   "metadata": {},
   "outputs": [
    {
     "data": {
      "text/plain": [
       "(27834.430707426982, 62591.13087482178)"
      ]
     },
     "execution_count": 11,
     "metadata": {},
     "output_type": "execute_result"
    }
   ],
   "source": [
    "X_q5b = county_data[['NEVER', 'RARELY', 'SOMETIMES', 'FREQUENTLY', 'ALWAYS']]\n",
    "y_q5b = county_data['9/12/21']\n",
    "\n",
    "# Make sure to set random_state = 42 and test_size = 0.33!\n",
    "X_q5b_test = X_q5b.sample(frac=0.33,random_state=42)\n",
    "X_q5b_train = X_q5b.drop(X_q5b_test.index)\n",
    "y_q5b_test = y_q5b.sample(frac=0.33,random_state=42)\n",
    "y_q5b_train = y_q5b.drop(y_q5b_test.index)\n",
    "\n",
    "from sklearn import linear_model as lm\n",
    "\n",
    "linear_model_m1 = lm.LinearRegression(fit_intercept=True)\n",
    "\n",
    "y_fitted_5b = linear_model_m1.fit(X_q5b_train, y_q5b_train).predict(X_q5b_train)\n",
    "y_predicted_5b = linear_model_m1.fit(X_q5b_train,\n",
    "y_q5b_train).predict(X_q5b_test)\n",
    "\n",
    "def rmse(predicted, actual):\n",
    "     return np.sqrt(np.mean((actual - predicted)**2))\n",
    "\n",
    "train_rmse_cases = rmse(y_fitted_5b, y_q5b_train)\n",
    "test_rmse_cases = rmse(y_predicted_5b, y_q5b_test)\n",
    "\n",
    "train_rmse_cases, test_rmse_cases"
   ]
  },
  {
   "cell_type": "code",
   "execution_count": null,
   "id": "6d3bcbd5",
   "metadata": {
    "deletable": false,
    "editable": false
   },
   "outputs": [
    {
     "data": {
      "text/html": [
       "<p><strong><pre style='display: inline;'>q5b</pre></strong> passed!</p>"
      ],
      "text/plain": [
       "q5b results: All test cases passed!"
      ]
     },
     "execution_count": 12,
     "metadata": {},
     "output_type": "execute_result"
    }
   ],
   "source": [
    "grader.check(\"q5b\")"
   ]
  },
  {
   "cell_type": "markdown",
   "id": "a07da3a5",
   "metadata": {
    "deletable": false,
    "editable": false
   },
   "source": [
    "<!-- BEGIN QUESTION -->\n",
    "\n",
    "### Question 5c\n",
    "\n",
    "Explain potential reasons the test set RMSE is much higher as compared to the training set RMSE.\n",
    "<!--\n",
    "BEGIN QUESTION\n",
    "name: q5c\n",
    "points: 3\n",
    "manual: True\n",
    "-->"
   ]
  },
  {
   "cell_type": "markdown",
   "id": "4fd63a7d",
   "metadata": {},
   "source": [
    "_One potential reason the test set RMSE is much higher as compared to the training set RMSE is that overfitting is happening. Another reason is that the direct correlation between the number of cases and make use is not very strong, so we may want to take other factors, for instance the population of each county, into account._"
   ]
  },
  {
   "cell_type": "markdown",
   "id": "5bbbb97c",
   "metadata": {
    "deletable": false,
    "editable": false
   },
   "source": [
    "<!-- END QUESTION -->\n",
    "\n",
    "### Question 5d\n",
    "\n",
    "Instead of predicting the number of COVID-19 cases, redo part (b) by predicting the number of cases per capita. Report the model's RMSE on the training and validation set.\n",
    "\n",
    "Comment on the relationship between the training and test RMSE by predicting the number of cases per capita instead of the total number of cases.\n",
    "<!--\n",
    "BEGIN QUESTION\n",
    "name: q5d\n",
    "points: 3\n",
    "-->"
   ]
  },
  {
   "cell_type": "code",
   "execution_count": null,
   "id": "85dfd858",
   "metadata": {},
   "outputs": [
    {
     "data": {
      "text/plain": [
       "(0.03540985737823185, 0.038167903498916037)"
      ]
     },
     "execution_count": 13,
     "metadata": {},
     "output_type": "execute_result"
    }
   ],
   "source": [
    "X_q5d = county_data[['NEVER', 'RARELY', 'SOMETIMES', 'FREQUENTLY', 'ALWAYS']]\n",
    "y_q5d = county_data['9/12/21']/county_data['POPESTIMATE2020']\n",
    "\n",
    "X_q5d_test = X_q5d.sample(frac=0.33,random_state=42)\n",
    "X_q5d_train = X_q5d.drop(X_q5b_test.index)\n",
    "y_q5d_test = y_q5d.sample(frac=0.33,random_state=42)\n",
    "y_q5d_train = y_q5d.drop(y_q5b_test.index)\n",
    "\n",
    "from sklearn import linear_model as lm\n",
    "\n",
    "linear_model_m2 = lm.LinearRegression(fit_intercept=True)\n",
    "\n",
    "y_fitted_5d = linear_model_m2.fit(X_q5d_train, y_q5d_train).predict(X_q5d_train)\n",
    "y_predicted_5d = linear_model_m2.fit(X_q5d_train,y_q5d_train).predict(X_q5d_test)\n",
    "\n",
    "train_rmse_cpc = rmse(y_fitted_5d, y_q5d_train)\n",
    "test_rmse_cpc = rmse(y_predicted_5d, y_q5d_test)\n",
    "\n",
    "train_rmse_cpc, test_rmse_cpc"
   ]
  },
  {
   "cell_type": "code",
   "execution_count": null,
   "id": "bdbcb703",
   "metadata": {
    "deletable": false,
    "editable": false
   },
   "outputs": [
    {
     "data": {
      "text/html": [
       "<p><strong><pre style='display: inline;'>q5d</pre></strong> passed!</p>"
      ],
      "text/plain": [
       "q5d results: All test cases passed!"
      ]
     },
     "execution_count": 14,
     "metadata": {},
     "output_type": "execute_result"
    }
   ],
   "source": [
    "grader.check(\"q5d\")"
   ]
  },
  {
   "cell_type": "markdown",
   "id": "decbcfc6-7078-4e50-95d0-9a8fbfafacb1",
   "metadata": {},
   "source": [
    "_The RMSE's are very close to each other. This makes sense, as taking the per capita decreases the y-values and results in errors that are scaled down The differences between training and test RMSE are also much closer, which again makes sense, as it should be easier to predict cases per capita than just cases, since we are not including population as a feature, despite it being a major factor._"
   ]
  },
  {
   "cell_type": "markdown",
   "id": "5c2215f3",
   "metadata": {
    "deletable": false,
    "editable": false
   },
   "source": [
    "<!-- BEGIN QUESTION -->\n",
    "\n",
    "### Question 5e\n",
    "\n",
    "Visualize the model outputs from part (d) by plotting the predictions $\\hat{y}$ versus the observations $y$. Comment on what the plot indicates about our linear model as a comment in the code cell.\n",
    "\n",
    "<!--\n",
    "BEGIN QUESTION\n",
    "name: q5e\n",
    "points: 3\n",
    "manual: True\n",
    "-->"
   ]
  },
  {
   "cell_type": "code",
   "execution_count": 18,
   "id": "8e59258f",
   "metadata": {},
   "outputs": [
    {
     "data": {
      "image/png": "[encoded data removed]",
      "text/plain": [
       "<Figure size 432x288 with 1 Axes>"
      ]
     },
     "metadata": {
      "needs_background": "light"
     },
     "output_type": "display_data"
    }
   ],
   "source": [
    "ax=sns.regplot(x= y_predicted_5d,y = y_q5d_test, scatter_kws={\"s\":2}, ci = None, line_kws={\"color\": \"red\"});\n",
    "plt.ylim(0, 0.3);\n",
    "plt.xlim(0, 0.3);\n",
    "plt.title(\"Predicted y value vs observation y value for the test set\");\n",
    "plt.xlabel(\"prediction y hat\");\n",
    "plt.ylabel(\"observations y\");\n",
    "\n",
    "\n",
    "#Most outliers have high y-values, indicating that the model's prediction is less significantly less\n",
    "#than actual observations. This also decreases the slope for the regression line, making it flatter."
   ]
  },
  {
   "cell_type": "markdown",
   "id": "fedb5469",
   "metadata": {
    "deletable": false,
    "editable": false
   },
   "source": [
    "<!-- END QUESTION -->\n",
    "\n",
    "### Question 5f\n",
    "\n",
    "We will investigate the bias and variance of this improved model on the test set using the bias-variance decomposition to formalize the behaviour of our model. To generate an empirical estimate of the errors and the parameters in the bias-variance decomposition, train 1000 bootstrapped models on the training dataset from part (d).\n",
    "\n",
    "<!--\n",
    "BEGIN QUESTION\n",
    "name: q5f\n",
    "points: 5\n",
    "-->"
   ]
  },
  {
   "cell_type": "code",
   "execution_count": 19,
   "id": "f7b7619b",
   "metadata": {},
   "outputs": [],
   "source": [
    "import random\n",
    "\n",
    "models = []\n",
    "\n",
    "for i in range(1000):\n",
    "    random_rows = []\n",
    "    for row in range(len(X_q5d_train)):\n",
    "        random_rows.append(random.randint(0, len(X_q5d_train)-1))\n",
    "    X_train = X_q5d_train.iloc[random_rows]\n",
    "    Y_train = y_q5d_train.iloc[random_rows]\n",
    "    models.append(LinearRegression().fit(X_train, Y_train))"
   ]
  },
  {
   "cell_type": "code",
   "execution_count": 20,
   "id": "5211469f",
   "metadata": {
    "deletable": false,
    "editable": false
   },
   "outputs": [
    {
     "data": {
      "text/html": [
       "<p><strong><pre style='display: inline;'>q5f</pre></strong> passed!</p>"
      ],
      "text/plain": [
       "q5f results: All test cases passed!"
      ]
     },
     "execution_count": 20,
     "metadata": {},
     "output_type": "execute_result"
    }
   ],
   "source": [
    "grader.check(\"q5f\")"
   ]
  },
  {
   "cell_type": "markdown",
   "id": "715760e0",
   "metadata": {
    "deletable": false,
    "editable": false
   },
   "source": [
    "### Question 5g\n",
    "\n",
    "To investigate the variance in our test predictions, we sample a particular test point $(x_i, y_i)$ such that $i = 100$. In other words, we will use the 100th point in the test set from part (d), `(X_q5d_test.iloc[100], y_q5d_test.iloc[100])` as the testing point.\n",
    "\n",
    "Generate predictions and square errors for this test point for all 1000 models, and calculate the *proportion* of the *expected* square error that is captured by the model prediction variance. In other words, we wish to estimate the following quantity:\n",
    "\n",
    "$$\n",
    "\\frac{\\mathrm{Var}(f_\\theta(x_i))}{\\mathrm{E}_\\theta[(y_i - f_\\theta(x_i))^2]}\n",
    "$$\n",
    "\n",
    "*Hint*: Refer to the bias-variance decomposition from lecture.\n",
    "<!--\n",
    "BEGIN QUESTION\n",
    "name: q5g\n",
    "points: 5\n",
    "-->"
   ]
  },
  {
   "cell_type": "code",
   "execution_count": 21,
   "id": "896ac261",
   "metadata": {},
   "outputs": [
    {
     "data": {
      "text/plain": [
       "0.001349362344231594"
      ]
     },
     "execution_count": 21,
     "metadata": {},
     "output_type": "execute_result"
    }
   ],
   "source": [
    "prop_var = np.array([model.predict(X_q5d_test.iloc[[100]])[0] for model in models])\n",
    "\n",
    "numerator = np.mean((prop_var-np.mean(prop_var))**2)\n",
    "denominator = np.mean((y_q5d_test.iloc[100]-prop_var)**2)\n",
    "prop_var=numerator/denominator\n",
    "prop_var"
   ]
  },
  {
   "cell_type": "code",
   "execution_count": 22,
   "id": "4b7bcc0c",
   "metadata": {
    "deletable": false,
    "editable": false
   },
   "outputs": [
    {
     "data": {
      "text/html": [
       "<p><strong><pre style='display: inline;'>q5g</pre></strong> passed!</p>"
      ],
      "text/plain": [
       "q5g results: All test cases passed!"
      ]
     },
     "execution_count": 22,
     "metadata": {},
     "output_type": "execute_result"
    }
   ],
   "source": [
    "grader.check(\"q5g\")"
   ]
  },
  {
   "cell_type": "code",
   "execution_count": 34,
   "id": "1716f47d-3970-4ad9-bde7-5b1633a3215d",
   "metadata": {},
   "outputs": [
    {
     "data": {
      "text/plain": [
       "2.122322240924646e-06"
      ]
     },
     "execution_count": 34,
     "metadata": {},
     "output_type": "execute_result"
    }
   ],
   "source": [
    "numerator"
   ]
  },
  {
   "cell_type": "code",
   "execution_count": 35,
   "id": "b0b4256d-0507-4fcd-8248-5f78c520e651",
   "metadata": {},
   "outputs": [
    {
     "data": {
      "text/plain": [
       "0.0017055090694895463"
      ]
     },
     "execution_count": 35,
     "metadata": {},
     "output_type": "execute_result"
    }
   ],
   "source": [
    "denominator"
   ]
  },
  {
   "cell_type": "markdown",
   "id": "0b590da8",
   "metadata": {
    "deletable": false,
    "editable": false
   },
   "source": [
    "<!-- BEGIN QUESTION -->\n",
    "\n",
    "### Question 5h\n",
    "\n",
    "Using the bias-variance decomposition, comment on how much the variance of the model contributes to the error on the sample point above. We will extend this scenario to analyze the noise term in the bias-variance decomposition, specifically with regards to this COVID-19 dataset. Consider the following:\n",
    "\n",
    "i) Assuming no observational noise (i.e. $\\epsilon = 0$), what is the *magnitude* of the empirical model bias on this sample point?\n",
    "\n",
    "ii) Clearly, there is a non-trivial amount of observational noise with COVID-19 case data simply due to how testing works and occurs. Please take a look at [this article](https://fivethirtyeight.com/features/coronavirus-case-counts-are-meaningless/) for more information. Given this infomation, explain the issues with the assumptions and result in 5h(i).\n",
    "\n",
    "iii) Recall that we typically assume $y = g(x) + \\epsilon$, where $\\epsilon \\sim \\mathcal{N}(\\mu, \\sigma)$. In the theoretical setting for bias-variance, we have assumed $\\mu = 0, \\sigma > 0$. In this practical setting, analyze and determine how $\\epsilon$ could be modeled (as a normal distribution, but you may also consider how it could be modeled as another distribution). Are there any immediate issues with the assumptions we have made in the theoretical setting where $\\mu = 0, \\sigma > 0$? What conditions on $\\mu, \\sigma$ could be more appropriate and why?\n",
    "\n",
    "iv) Does the standard bias-variance decomposition presented in lecture hold given $\\epsilon$ being normally distributed according to your answer in part (iii)? If so, please explain why. If not, explain why it does not hold and if possible, how to modify the bias-variance decomposition to make it hold (i.e. perhaps there is an additional noise term $E[\\epsilon^3]$). \n",
    "\n",
    "*Hint*: Try to express $y = g(x) + \\epsilon$ by adding and subtracting a certain quantity.\n",
    "\n",
    "v) Intuitively, is it possible to minimize the true model bias to 0 given your $\\epsilon$ formulation in part (iii)? Why or why not? Justify your answer using part (iv) if possible.\n",
    "\n",
    "vi) Consider the infinite sample case where an oracle grants you as many samples as requested, and answer the same question in part (v). Is it possible to minimize the true model bias to 0 given your $\\epsilon$ formulation in part (iii)? Conclude with an analysis of what our modeling task can approximate using $X\\theta \\approx y$ in the finite and infinite sample case.\n",
    "\n",
    "<!--\n",
    "BEGIN QUESTION\n",
    "name: q5h\n",
    "points: 24\n",
    "manual: True\n",
    "-->"
   ]
  },
  {
   "cell_type": "markdown",
   "id": "b0ffbb09-7ebe-41c1-b640-ed6b359968d0",
   "metadata": {},
   "source": [
    "_The extremely small variance-bias ratio indicates that there is much more bias than variance, and so we have low model complexity and should introduce more features. Model variance is at the $10^{-6}$ magnitude, whereas model bias is at the $10^{-3}$ magnitude (which we can see from the previous part), which leaves model risk at $10^{-3}$ order of magnitude. This means that bias is a whole three orders of magnitude larger than bias, and so variance has a relatively small contribution to the error. We should focus on reducing bias instead._\n",
    "\n",
    "_However, as the article explains, there is possibly a great deal of incorrect information involved as counties report cases as they are tested. The number of positive tests is not necessarily equal to the true number of cases, and according to the article, can be predicted to be off by a magnitude of 2 to 100 in the United States. This magnitude dwarfs our model variance and model bias. Whereas the assumption of $\\epsilon=0$ gave the impression that bias was the largest contributor to risk, this information that the biggest contributor to model risk is actually observational noise._\n",
    "\n",
    "_One way to try to approximate observational noise is to measure the number of new cases confirmed in a county, then check the number of reported cases over the next week. As COVID-19 has an incubation period of approximately a week, anyone displaying COVID symptoms over the course of the next week should have been caught by the tests. This can be used to get an estimate for the true number of cases a week before, and by comparing this estimate to the number of confirmed cases, we can get an approximation for the magnitude of observational error. By taking multiple such approximations, we can come to model $\\epsilon$. Of course, we also have to account for roughly 30% of people being asymptotic. The problem with the assumption that $\\epsilon=N(\\mu,\\sigma)$ is that we don't actually know that $\\epsilon$ can be modelled as a normal function. On the contrary, the article suggests that our observed data may be a fraction of the true number of cases. Additionally, since the true number of cases will almost always be greater than the number of confirmed cases, $g(x)>Y(x)$, so our $\\epsilon$ will have an average of less than 0 anyways. Instead, a more accurate representation might be $y=g(x)+N(\\mu,\\sigma)x$, where $\\mu<0$, so that the model can account for error being a function of $x$._\n",
    "\n",
    "_The standard bias-variance decomposition probably does not fit well, as we are aware that the observational variance is likely off by a factor of the number of cases, which is not well-modeled by a normal distribution. 5e demonstrates that the plot of predicted y versus actual y is a downward parabola, implying that if we wish to keep $\\epsilon$ as a normal distribution centered at 0, it may work better to use some kind of additional noise variable of $-\\epsilon^3$. Otherwise, the error may have to be a function of $x$._\n",
    "\n",
    "_For the model bias to be 0, the model must perfectly predict number of cases. This is possible by accident, but not possible in practice. The fact that observational variance will be nonzero makes it likely that our model will consistently off, and even if we perfected it so that $\\hat{Y}=Y$, that is, so that our model perfectly predicts the number of confirmed cases, the prediction would still not match the number of true cases, $g(x)$._\n",
    "\n",
    "_If we get infinite samples, we could theoretically test everyone. In which case we could have no observational bias; observational bias would be 0. As a result, yes, we would be able to reduce bias to 0, as $E(Y)=g$, and we can get $\\hat{Y}=Y$ since we have infinite samples and can just sample the whole population._"
   ]
  },
  {
   "cell_type": "markdown",
   "id": "653f5fdb",
   "metadata": {
    "deletable": false,
    "editable": false
   },
   "source": [
    "<!-- END QUESTION -->\n",
    "\n",
    "### Question 5i\n",
    "\n",
    "Using the bias-variance decomposition for each test point, calculate the average variance and average test mean-square error across the entire test set from part (d). In other words, estimate the following quantities:\n",
    "\n",
    "$$\n",
    "\\frac{1}{n} \\sum_i \\mathrm{Var}(f_\\theta(x_i))\n",
    "$$\n",
    "\n",
    "and\n",
    "\n",
    "$$\n",
    "\\frac{1}{n} \\sum_i \\mathrm{E}_\\theta[(y_i - f_\\theta(x_i))^2]\n",
    "$$\n",
    "\n",
    "<!--\n",
    "BEGIN QUESTION\n",
    "name: q5i\n",
    "points: 5\n",
    "manual: False\n",
    "-->"
   ]
  },
  {
   "cell_type": "code",
   "execution_count": 25,
   "id": "6992726a-d559-4e0f-b9b0-d022f765209a",
   "metadata": {},
   "outputs": [
    {
     "data": {
      "text/plain": [
       "(3.9531682931346424e-06, 0.0014606188771244476)"
      ]
     },
     "execution_count": 25,
     "metadata": {},
     "output_type": "execute_result"
    }
   ],
   "source": [
    "avg_var, avg_mse = [], []\n",
    "predictions = pd.DataFrame()\n",
    "count = 0\n",
    "for model in models:\n",
    "    predictions[count] = model.predict(X_q5d_test)\n",
    "    count += 1\n",
    "for i in range(len(X_q5d_test)):\n",
    "    avg_var.append(np.var(predictions.iloc[i]))\n",
    "    avg_mse.append(np.mean((y_q5d_test.iloc[i]-predictions.iloc[i])**2))\n",
    "\n",
    "avg_var, avg_mse=np.mean(avg_var),np.mean(avg_mse)\n",
    "avg_var, avg_mse"
   ]
  },
  {
   "cell_type": "code",
   "execution_count": 26,
   "id": "8243a140",
   "metadata": {
    "deletable": false,
    "editable": false
   },
   "outputs": [
    {
     "data": {
      "text/html": [
       "<p><strong><pre style='display: inline;'>q5i</pre></strong> passed!</p>"
      ],
      "text/plain": [
       "q5i results: All test cases passed!"
      ]
     },
     "execution_count": 26,
     "metadata": {},
     "output_type": "execute_result"
    }
   ],
   "source": [
    "grader.check(\"q5i\")"
   ]
  },
  {
   "cell_type": "markdown",
   "id": "15d6f530",
   "metadata": {
    "deletable": false,
    "editable": false
   },
   "source": [
    "<!-- BEGIN QUESTION -->\n",
    "\n",
    "## Question 5j\n",
    "\n",
    "Propose a solution to reducing the mean square error using the insights gained from the bias-variance decomposition above. What are the values of the quantities that have we estimated and what can be concluded about the remaining quantities? Please show all work that informs your analysis.\n",
    "\n",
    "Assume that the standard bias-variance decomposition used in lecture can be applied here.\n",
    "<!--\n",
    "BEGIN QUESTION\n",
    "name: q5j\n",
    "points: 5\n",
    "manual: True\n",
    "-->"
   ]
  },
  {
   "cell_type": "markdown",
   "id": "99bbb2f5",
   "metadata": {},
   "source": [
    "_We can try changing the model to reduce mean square error. As it is, we are using linear regression, trying to model $g(x)$ as $\\hat{y}=ax+b$. However, as 5e showed, a better model might be a polynomial regression of degree 3, as the plot of $\\hat{y}$ versus $y$ appeared like a downward parabola. Variance is approximately 0.000002 and bias is 0.0017, while the average values are approximately 0.000004 and 0.0015, respectively._"
   ]
  },
  {
   "cell_type": "markdown",
   "id": "e6f0f9b9",
   "metadata": {
    "tags": []
   },
   "source": [
    "<!-- END QUESTION -->\n",
    "\n",
    "\n",
    "\n",
    "<br/><br/><br/>\n",
    "\n",
    "---\n",
    "\n",
    "<br/><br/><br/>\n",
    "\n",
    "## Question 6: Open Supervised Modeling\n",
    "\n",
    "We wish to extend our modeling framework from Question 5 to make it more accurate; in other words, we wish to predict $f(x)$, a supervised learning output, based on past and current quantities. \n",
    "\n",
    "This section will serve as a rough guide on creating an autoregressive modeling framework for predicting a COVID-19 quantity of your choice (i.e. deaths, cases, vaccinations).\n",
    "\n",
    "Note that if you do not wish to pursue time-based modeling of COVID-19, you may skip parts (d), (e), and (f). That being said, you are strongly encouraged to incorporate time-based modeling into your open-ended modeling design since it constitutes a large component of the provided datasets.\n",
    "\n",
    "We will ***not*** grade these below questions individually (i.e. there are no points explicitly assigned to questions 6(a) to 6(f)); they are simply guiding questions and will be graded as part of the final project report. You should make sure to answer all of the questions (that are applicable to your open-ended modeling) in some form in the report."
   ]
  },
  {
   "cell_type": "code",
   "execution_count": null,
   "id": "239620e5-175b-426c-9021-5b10feac78f7",
   "metadata": {},
   "outputs": [],
   "source": [
    "#Vaccination data is from https://data.cdc.gov/Vaccinations/COVID-19-Vaccinations-in-the-United-States-County/8xkx-amqh/data\n",
    "#importing vaccination data\n",
    "county_vaccinations = pd.read_csv('https://data.cdc.gov/api/views/8xkx-amqh/rows.csv')\n",
    "county_vaccinations = county_vaccinations[county_vaccinations['Date']=='09/12/2021'][['FIPS', 'Series_Complete_Pop_Pct']]\n",
    "\n",
    "#cleaning vaccination data\n",
    "county_vaccinations = county_vaccinations.rename(columns={'Series_Complete_Pop_Pct': \"percentage_vaccinated\"})\n",
    "county_vaccinations = county_vaccinations[county_vaccinations['FIPS'].apply(lambda x: str(x).isdigit())]\n",
    "county_vaccinations['FIPS'] = county_vaccinations['FIPS'].astype(int)\n",
    "county_copy = county_data.merge(county_vaccinations, how = \"left\", left_on= 'FIPS', right_on = 'FIPS')\n",
    "county_copy = county_copy.dropna()\n",
    "\n",
    "#Import data and initial cleaning:\n",
    "apple_mobility = pd.read_csv(\"https://covid19-static.cdn-apple.com/covid19-mobility-data/2203HotfixDev14/v3/en-us/applemobilitytrends-2021-12-07.csv\")\n",
    "apple_mobility = apple_mobility[apple_mobility[\"country\"] == \"United States\"]\n",
    "apple_mobility = apple_mobility.iloc[:,:apple_mobility.columns.get_loc(\"2021-09-13\")]\n",
    "apple_mobility = apple_mobility[apple_mobility[\"geo_type\"] == \"county\"].drop(['geo_type', 'country'],axis=1) \n",
    "apple_mobility = apple_mobility.groupby([\"region\", \"sub-region\"]).agg(\"sum\").reset_index()\n",
    "apple_mobility"
   ]
  },
  {
   "cell_type": "code",
   "execution_count": null,
   "id": "56c5f38f-f7de-46b6-af7a-57ab9542d6fa",
   "metadata": {},
   "outputs": [],
   "source": [
    "#Clean the table so that it only have date up to 09/12/2021, which matches the county_data，\n",
    "#then we groupby county and take the sum for each for late modeling\n",
    "\n",
    "# getting the average mobility, has to be done before merge\n",
    "apple_mobility['avg_mobility'] = apple_mobility.iloc[:,apple_mobility.columns.get_loc('2020-01-13'):apple_mobility.columns.get_loc('2021-09-12')].mean(axis=1)\n",
    "apple_mobility"
   ]
  },
  {
   "cell_type": "code",
   "execution_count": null,
   "id": "2539e9cf-1645-4db0-88ee-ec9245d59002",
   "metadata": {},
   "outputs": [],
   "source": [
    "county_copy = county_copy.merge(apple_mobility, how = \"left\", left_on= [\"CTYNAME\", \"STNAME\"], right_on = [\"region\", \"sub-region\"])\n",
    "\n",
    "\n",
    "death = pd.read_csv(\"https://raw.githubusercontent.com/CSSEGISandData/COVID-19/master/csse_covid_19_data/csse_covid_19_time_series/time_series_covid19_deaths_US.csv\")\n",
    "death = death.iloc[:,:death.columns.get_loc(\"9/13/21\")].groupby(\"FIPS\").agg(\"sum\").reset_index()\n",
    "death = death.iloc[:3141,:]\n",
    "death[\"FIPS\"] = death[\"FIPS\"].astype(int)\n",
    "death = death.drop(['UID', 'code3', \"Lat\", \"Long_\"],axis=1)\n",
    "death_fips= death[\"FIPS\"].values\n",
    "death_pop = death[\"Population\"].values\n",
    "death =death.iloc[:,2:].div(death.Population, axis=0)\n",
    "death = death.rename(columns=lambda x: re.sub('/','-',x))\n",
    "death[\"FIPS\"]= death_fips\n",
    "death"
   ]
  },
  {
   "cell_type": "code",
   "execution_count": null,
   "id": "977b95ae-04c7-4ba5-bf9c-e72ed0eb2b18",
   "metadata": {},
   "outputs": [],
   "source": [
    "county_copy = county_copy.merge(death, how = \"left\", left_on = \"FIPS\", right_on = \"FIPS\")\n",
    "county_copy = county_copy.dropna()\n",
    "\n",
    "#first Day is Jan 22, 2020\n",
    "# dates with the format MM-DD-YY are the death\n",
    "# dates with the format MM/DD/YY are the cases\n",
    "# dates with the format YYYY-MM-DD are the mobility data\n",
    "\n",
    "# function used to normalize the data\n",
    "def normalize(df, col):\n",
    "    column = df[col]\n",
    "    mean = column.mean()\n",
    "    std = column.std()\n",
    "    df[\"normalized \" + col] = (column - mean) / std\n",
    "    return\n",
    "\n",
    "#Change cases statistic in county_data into cases per capita\n",
    "temp = county_copy.loc[:,'1/22/20':'9/12/21'].div(county_copy ['POPESTIMATE2020'], axis=0)\n",
    "temp_col = temp.columns\n",
    "for column in temp_col:\n",
    "    county_copy[column] = temp[column]\n",
    "\n",
    "#After all cleaning, use county_copy now/ county_data = county_copy.copy()\n",
    "\n",
    "\n",
    "#Mask use score added into the Dataframe\n",
    "mask_use[\"mask_use_score\"] = mask_use[\"NEVER\"] * (-1) + mask_use[\"RARELY\"] * (-0.5) +  mask_use[\"FREQUENTLY\"] * (0.5) + mask_use[\"ALWAYS\"] * (1)\n",
    "county_copy = county_copy.merge(mask_use, how = \"left\", left_on = \"FIPS\", right_on = \"COUNTYFP\")\n",
    "county_copy = county_copy.drop(\"COUNTYFP_y\", axis=1)\n",
    "county_copy.shape\n",
    "\n",
    "\n",
    "#the columns we want to use are ‘mask_use_score’, ‘avg_mobility’, ‘percentage_vaccinated’\n",
    "normalize(county_copy, 'mask_use_score')\n",
    "normalize(county_copy, 'avg_mobility')\n",
    "normalize(county_copy, 'percentage_vaccinated')\n",
    "normalize(county_copy, '9-12-21')\n",
    "temp = county_copy[[\"9/12/21\", \"1/1/21\"]]\n",
    "normalize(temp, '9/12/21')\n",
    "X = county_copy[['normalized mask_use_score', 'normalized avg_mobility', 'normalized percentage_vaccinated']]\n",
    "Y = temp[\"normalized 9/12/21\"]\n",
    "X_train, X_test, Y_train, Y_test = train_test_split(X, Y, test_size=0.2, random_state = 8)"
   ]
  },
  {
   "cell_type": "markdown",
   "id": "4b1e3e64",
   "metadata": {
    "deletable": false,
    "editable": false
   },
   "source": [
    "# <!-- BEGIN QUESTION -->\n",
    "\n",
    "### Question 6a\n",
    "\n",
    "Train a baseline model where $f$ is the model described in Question 0a and $x$ is a quantity of *your* choice. Note that you may used *any* supervised learning approach we have studied; you are not limited to a linear model.\n",
    "\n",
    "<!--\n",
    "BEGIN QUESTION\n",
    "name: q6a\n",
    "points: 0\n",
    "manual: True\n",
    "-->"
   ]
  },
  {
   "cell_type": "code",
   "execution_count": null,
   "id": "15636bf1-4632-47bf-b338-ad266ce7633c",
   "metadata": {},
   "outputs": [],
   "source": [
    "reg = LinearRegression().fit(X_train, Y_train)\n",
    "reg.coef_"
   ]
  },
  {
   "cell_type": "code",
   "execution_count": 26,
   "id": "1dd0e295-9ef6-4698-9efc-f2b82c0e9e48",
   "metadata": {},
   "outputs": [
    {
     "data": {
      "text/plain": [
       "0.8931320575637622"
      ]
     },
     "execution_count": 26,
     "metadata": {},
     "output_type": "execute_result"
    }
   ],
   "source": [
    "from sklearn.model_selection import KFold\n",
    "def compute_CV_error(model, X_train, Y_train, fold):\n",
    "    '''\n",
    "    Args:\n",
    "        model: an sklearn model with fit and predict functions\n",
    "        X_train (data_frame): Training data\n",
    "        Y_train (data_frame): Label\n",
    "fold (int): number of ways to split the data\n",
    "\n",
    "    Return:\n",
    "        the average validation MSE for the 4 splits.\n",
    "    '''\n",
    "    kf = KFold(n_splits=fold)\n",
    "    validation_errors = []\n",
    "    \n",
    "    for train_idx, valid_idx in kf.split(X_train):\n",
    "        # split the data\n",
    "        split_X_train, split_X_valid = X_train.iloc[train_idx], X_train.iloc[valid_idx]\n",
    "        split_Y_train, split_Y_valid = Y_train.iloc[train_idx], Y_train.iloc[valid_idx]\n",
    "\n",
    "        # Fit the model on the training split\n",
    "        model.fit(split_X_train, split_Y_train)\n",
    "        # Predict housing prices on the test set\n",
    "        Y_pred = model.predict(split_X_valid)\n",
    "        \n",
    "        # Compute the RMSE on the validation split\n",
    "        error = rmse(split_Y_valid, Y_pred)\n",
    "\n",
    "\n",
    "        validation_errors.append(error)\n",
    "    return np.mean(validation_errors)\n",
    "compute_CV_error(reg, X_train, Y_train, 5)"
   ]
  },
  {
   "cell_type": "code",
   "execution_count": 27,
   "id": "462e58b5-d158-429c-8094-a5381f6adb6b",
   "metadata": {},
   "outputs": [
    {
     "data": {
      "text/plain": [
       "0.39869324892200014"
      ]
     },
     "execution_count": 27,
     "metadata": {},
     "output_type": "execute_result"
    }
   ],
   "source": [
    "y_predict = reg.predict(X_train)\n",
    "corr, _ = pearsonr(y_predict, Y_train)\n",
    "corr"
   ]
  },
  {
   "cell_type": "code",
   "execution_count": 28,
   "id": "65267704-4aeb-47da-9b7e-b14c85a1f7f9",
   "metadata": {},
   "outputs": [
    {
     "data": {
      "image/png": "[encoded data removed]",
      "text/plain": [
       "<Figure size 432x288 with 1 Axes>"
      ]
     },
     "metadata": {
      "needs_background": "light"
     },
     "output_type": "display_data"
    }
   ],
   "source": [
    "sns.scatterplot(x=reg.predict(X_train), y=Y_train)\n",
    "plt.ylim([-4,4])\n",
    "plt.title('Observed vs. Predicted Cases per capita')\n",
    "plt.ylabel('Normalized Cases per capita')\n",
    "plt.xlabel('Normalized predicted cases per capita');"
   ]
  },
  {
   "cell_type": "markdown",
   "id": "1a3b8a40",
   "metadata": {
    "deletable": false,
    "editable": false
   },
   "source": [
    "<!-- END QUESTION -->\n",
    "\n",
    "<!-- BEGIN QUESTION -->\n",
    "\n",
    "### Question 6b\n",
    "\n",
    "Improve your model from part (a). Specify the supervised model you choose and write $f(x)$ as a function of the chosen features and parameters in your model. Justify why you chose these features and how you expect they will correlate with the output you wish to predict.\n",
    "\n",
    "<!--\n",
    "BEGIN QUESTION\n",
    "name: q6b\n",
    "points: 0\n",
    "manual: True\n",
    "-->"
   ]
  },
  {
   "cell_type": "code",
   "execution_count": 29,
   "id": "fc29760c-2d8e-4aac-a811-afca16090373",
   "metadata": {},
   "outputs": [
    {
     "data": {
      "text/plain": [
       "0.7560758054504344"
      ]
     },
     "execution_count": 29,
     "metadata": {},
     "output_type": "execute_result"
    }
   ],
   "source": [
    "X2 = county_copy[['normalized mask_use_score', 'normalized avg_mobility', 'normalized percentage_vaccinated', 'normalized 9-12-21']]\n",
    "Y2 = temp['normalized 9/12/21']\n",
    "X2_train, X2_test, Y2_train, Y2_test = train_test_split(X2, Y2, test_size=0.2, random_state = 8)\n",
    "reg2 = LinearRegression().fit(X2_train, Y2_train)\n",
    "compute_CV_error(reg2, X2_train, Y2_train, 5)"
   ]
  },
  {
   "cell_type": "code",
   "execution_count": 30,
   "id": "e8d8da77-fe52-4dc2-8260-4eef31b01088",
   "metadata": {},
   "outputs": [
    {
     "data": {
      "image/png": "[encoded data removed]",
      "text/plain": [
       "<Figure size 432x288 with 1 Axes>"
      ]
     },
     "metadata": {
      "needs_background": "light"
     },
     "output_type": "display_data"
    }
   ],
   "source": [
    "sns.scatterplot(x=reg2.predict(X2_train), y=Y2_train)\n",
    "plt.ylim([-4,4])\n",
    "plt.title('Observed vs. Predicted Cases per capita')\n",
    "plt.ylabel('Normalized Cases per capita')\n",
    "plt.xlabel('Predicted normalized cases per capita');"
   ]
  },
  {
   "cell_type": "code",
   "execution_count": 31,
   "id": "67964e38-543d-4700-a673-c85e04f70884",
   "metadata": {},
   "outputs": [
    {
     "data": {
      "text/plain": [
       "0.6317143553330716"
      ]
     },
     "execution_count": 31,
     "metadata": {},
     "output_type": "execute_result"
    }
   ],
   "source": [
    "y2_predict = reg2.predict(X2_train)\n",
    "corr2, _ = pearsonr(y2_predict, Y2_train)\n",
    "corr2"
   ]
  },
  {
   "cell_type": "code",
   "execution_count": 32,
   "id": "2ef6fcc7-2456-4a60-ab20-caef0b89c9fb",
   "metadata": {},
   "outputs": [
    {
     "data": {
      "text/plain": [
       "array([-0.2245035 , -0.00588399, -0.03491332,  0.51782334])"
      ]
     },
     "execution_count": 32,
     "metadata": {},
     "output_type": "execute_result"
    }
   ],
   "source": [
    "reg2.coef_"
   ]
  },
  {
   "cell_type": "markdown",
   "id": "34b5ffe9-d7c9-420e-afa7-ace6128ecdea",
   "metadata": {},
   "source": [
    "_We chose to add a 'death' feature to help better model the relationship between mask use, mobility, vaccination, and cases. While we may not be certain how mobility is related to cases, we know that mask use and vaccinations should reduce the number of cases. However, our original model from part a says that mask use and vaccination are positively correlated with the number of cases, since as time goes on and COVID worsens, more people wear masks and get vaccines. Introducing the death feature allows death to serve as an upper bound, helping cancel the effect of the progression of the disease to focus on the effect of the other features. Death also helps improve the model, decreasing our five-fold cross-validation error and increasing the correlation between our predictions and the observed data._"
   ]
  },
  {
   "cell_type": "markdown",
   "id": "f28de6f8",
   "metadata": {
    "deletable": false,
    "editable": false
   },
   "source": [
    "<!-- END QUESTION -->\n",
    "\n",
    "<!-- BEGIN QUESTION -->\n",
    "\n",
    "### Question 6c\n",
    "\n",
    "If applicable, write an equation or rule for the prediction function $f(x)$; if this is infeasible, make sure to visualize your model parameters in some way. Interpret your improved model's optimal parameters (*hint*: refer to 1aiii), and compare these parameters to those of the baseline model. Comment on whether the parameters follow physical intuition given the nature of the prediction task.\n",
    "\n",
    "For example, if you chose to use a decision tree, you may interpret the generated rules.\n",
    " \n",
    "<!--\n",
    "BEGIN QUESTION\n",
    "name: q6c\n",
    "points: 0\n",
    "manual: True\n",
    "-->"
   ]
  },
  {
   "cell_type": "code",
   "execution_count": 87,
   "id": "f6cbcccf-fcbc-454e-9466-e44e0852def3",
   "metadata": {},
   "outputs": [
    {
     "data": {
      "text/plain": [
       "0.010692667730120096"
      ]
     },
     "execution_count": 87,
     "metadata": {},
     "output_type": "execute_result"
    }
   ],
   "source": [
    "reg2.intercept_"
   ]
  },
  {
   "cell_type": "markdown",
   "id": "df0defa5",
   "metadata": {},
   "source": [
    "$f(mask\\_use, avg\\_mobility, percent\\_vaccinated, deaths) = -0.2245*mask\\_use-0.0059*avg\\_mobility-0.0349*percent\\_vaccinated+0.5178*deaths+0.0107$\n",
    "\n",
    "_This is the equation we get for the prediction function. This matches our physical intuition, as mask use and vaccinations are both negatively correlated with cases. We also know both deaths and cases increase over time, so their positive correlation also makes sense._"
   ]
  },
  {
   "cell_type": "markdown",
   "id": "16b89e46",
   "metadata": {
    "deletable": false,
    "editable": false
   },
   "source": [
    "<!-- END QUESTION -->\n",
    "\n",
    "<!-- BEGIN QUESTION -->\n",
    "\n",
    "### Question 6d\n",
    "\n",
    "Discuss your improved model's performance on both short-term and long-term time scales using a metric of your choice (*hint:* we're using an autoregressive model). In other words, given $x_t$, we wish to predict $\\hat{x}_{t+k}$, and plot the error of these predictions for two $k$ values of your choice. You may use any reasonable interpretation of short-term and long-term predictions; an initial suggestion is to use 2-day predictions and 2-week predictions.\n",
    "\n",
    "Compare the performance of this model on both timescales with the baseline model.\n",
    "\n",
    "<!--\n",
    "BEGIN QUESTION\n",
    "name: q6d\n",
    "points: 0\n",
    "manual: True\n",
    "-->"
   ]
  },
  {
   "cell_type": "code",
   "execution_count": null,
   "id": "605e7549",
   "metadata": {},
   "outputs": [],
   "source": [
    "..."
   ]
  },
  {
   "cell_type": "markdown",
   "id": "74ba1ff2",
   "metadata": {
    "deletable": false,
    "editable": false
   },
   "source": [
    "<!-- END QUESTION -->\n",
    "\n",
    "<!-- BEGIN QUESTION -->\n",
    "\n",
    "### Question 6e\n",
    "\n",
    "Plot and describe the error for both the baseline and improved models as a function of time. In other words, given $x_t$, we wish to predict $\\hat{x}_{t+k}$, and plot the error of these predictions for all $k$.\n",
    "\n",
    "Consider how and why the performance of the model degrades as a function of time using the rate of growth in the error.\n",
    "\n",
    "<!--\n",
    "BEGIN QUESTION\n",
    "name: q6e\n",
    "points: 0\n",
    "manual: True\n",
    "-->"
   ]
  },
  {
   "cell_type": "code",
   "execution_count": null,
   "id": "9fd1992b",
   "metadata": {},
   "outputs": [],
   "source": [
    "..."
   ]
  },
  {
   "cell_type": "markdown",
   "id": "526caa49",
   "metadata": {
    "deletable": false,
    "editable": false
   },
   "source": [
    "<!-- END QUESTION -->\n",
    "\n",
    "<!-- BEGIN QUESTION -->\n",
    "\n",
    "### Question 6f\n",
    "\n",
    "Consider a modification to the model $f(x) = x_{t+1}$ where instead $f(x) = [x_{t+1}, x_{t+2}, ..., x_{t+m}]$ for some $m > 1$. In other words, using the features $x$ that contain past and present quantities, our model *explicitly* predicts values for $m$ days in the future rather than simply the next day (i.e. $m = 1$). \n",
    "\n",
    "Train the baseline and improved model using $m = 5$ and $m = 10$. Evaluate and visualize the predictive accuracy of both models.\n",
    "\n",
    "<!--\n",
    "BEGIN QUESTION\n",
    "name: q6f\n",
    "points: 0\n",
    "manual: True\n",
    "-->"
   ]
  },
  {
   "cell_type": "code",
   "execution_count": null,
   "id": "535e290f",
   "metadata": {},
   "outputs": [],
   "source": [
    "..."
   ]
  },
  {
   "cell_type": "markdown",
   "id": "cb8bc5f0",
   "metadata": {
    "deletable": false,
    "editable": false
   },
   "source": [
    "---\n",
    "\n",
    "To double-check your work, the cell below will rerun all of the autograder tests."
   ]
  },
  {
   "cell_type": "code",
   "execution_count": 36,
   "id": "dd82aee6",
   "metadata": {
    "deletable": false,
    "editable": false
   },
   "outputs": [
    {
     "data": {
      "text/plain": [
       "q1a results: All test cases passed!\n",
       "\n",
       "q1d results: All test cases passed!\n",
       "\n",
       "q1e results: All test cases passed!\n",
       "\n",
       "q5b results: All test cases passed!\n",
       "\n",
       "q5d results: All test cases passed!\n",
       "\n",
       "q5f results: All test cases passed!\n",
       "\n",
       "q5g results: All test cases passed!\n",
       "\n",
       "q5i results: All test cases passed!"
      ]
     },
     "execution_count": 36,
     "metadata": {},
     "output_type": "execute_result"
    }
   ],
   "source": [
    "grader.check_all()"
   ]
  },
  {
   "cell_type": "markdown",
   "id": "7ecfb50d",
   "metadata": {
    "deletable": false,
    "editable": false
   },
   "source": [
    "## Submission\n",
    "\n",
    "Make sure you have run all cells in your notebook in order before running the cell below, so that all images/graphs appear in the output. The cell below will generate a zip file for you to submit. **Please save before exporting!**"
   ]
  },
  {
   "cell_type": "code",
   "execution_count": 43,
   "id": "febbeabf",
   "metadata": {
    "deletable": false,
    "editable": false
   },
   "outputs": [
    {
     "data": {
      "text/html": [
       "\n",
       "            <p>Your submission has been exported. Click <a href=\"covid_part2_2021_12_11T17_11_23_459530.zip\" download=\"covid_part2_2021_12_11T17_11_23_459530.zip\" target=\"_blank\">here</a>\n",
       "            to download the zip file.</p>\n",
       "            "
      ],
      "text/plain": [
       "<IPython.core.display.HTML object>"
      ]
     },
     "metadata": {},
     "output_type": "display_data"
    }
   ],
   "source": [
    "# Save your notebook first, then run this cell to export your submission.\n",
    "grader.export()"
   ]
  },
  {
   "cell_type": "markdown",
   "id": "fd5501bd",
   "metadata": {},
   "source": [
    " "
   ]
  }
 ],
 "metadata": {
  "kernelspec": {
   "display_name": "Python 3 (ipykernel)",
   "language": "python",
   "name": "python3"
  },
  "language_info": {
   "codemirror_mode": {
    "name": "ipython",
    "version": 3
   },
   "file_extension": ".py",
   "mimetype": "text/x-python",
   "name": "python",
   "nbconvert_exporter": "python",
   "pygments_lexer": "ipython3",
   "version": "3.9.7"
  }
 },
 "nbformat": 4,
 "nbformat_minor": 5
}
